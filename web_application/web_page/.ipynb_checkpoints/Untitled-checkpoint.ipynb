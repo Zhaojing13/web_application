{
 "cells": [
  {
   "cell_type": "code",
   "execution_count": 1,
   "metadata": {},
   "outputs": [],
   "source": [
    "from flask import Flask,render_template,url_for,request\n",
    "from flask_bootstrap import Bootstrap\n",
    "import pandas as pd \n",
    "import pickle\n",
    "from sklearn.feature_extraction.text import CountVectorizer\n",
    "from sklearn.naive_bayes import MultinomialNB\n",
    "import joblib\n",
    "import numpy as np\n",
    "from rdkit import Chem\n",
    "from rdkit.Chem import AllChem\n",
    "from rdkit.Chem import MACCSkeys\n",
    "from rdkit.Chem import DataStructs\n",
    "from rdkit.Chem.AllChem import GetMorganFingerprintAsBitVect\n",
    "from rdkit.DataStructs.cDataStructs import ConvertToNumpyArray"
   ]
  },
  {
   "cell_type": "code",
   "execution_count": 32,
   "metadata": {},
   "outputs": [],
   "source": [
    "def predict(farg, *args):\n",
    "\n",
    "#     morgan_RF_model = open('morgan-RF.pkl','rb')\n",
    "#     RF = joblib.load(morgan_RF_model)\n",
    "    morgan_RF_model = open(r'C:\\Users\\Ran\\OneDrive - HKUST Connect\\Research\\Jing Project-20210225\\JupyterProject\\web page\\morgan-RF.pkl','rb')\n",
    "    RF = joblib.load(morgan_RF_model)\n",
    "    \n",
    "    \n",
    "    def FingerPrint1(i,j):\n",
    "        FingerPrint=AllChem.GetMorganFingerprintAsBitVect(mol,radius=int(j),nBits=int(i))\n",
    "        VectorFingerPrint=np.zeros((1,int(i)))\n",
    "        for z in range(0,1):\n",
    "            ConvertToNumpyArray(FingerPrint,VectorFingerPrint[z])\n",
    "        return pd.DataFrame(VectorFingerPrint)\n",
    "\n",
    "\n",
    "    SMILE =farg \n",
    "    mol = Chem.MolFromSmiles(SMILE)\n",
    "    pred_x=FingerPrint1(int(3904.2438021660605),int(3.8531312767493775))\n",
    "    pred_y = RF.predict(pred_x)\n",
    "    return  pred_y"
   ]
  },
  {
   "cell_type": "code",
   "execution_count": 33,
   "metadata": {},
   "outputs": [
    {
     "data": {
      "text/plain": [
       "array([0.10895323])"
      ]
     },
     "execution_count": 33,
     "metadata": {},
     "output_type": "execute_result"
    }
   ],
   "source": [
    "predict(\"C1=CC(=C(C=C1C(=O)O)C=O)O\")"
   ]
  },
  {
   "cell_type": "code",
   "execution_count": 30,
   "metadata": {},
   "outputs": [
    {
     "data": {
      "text/plain": [
       "<rdkit.DataStructs.cDataStructs.ExplicitBitVect at 0x2a136399ad0>"
      ]
     },
     "execution_count": 30,
     "metadata": {},
     "output_type": "execute_result"
    }
   ],
   "source": [
    "def FingerPrint1(i,j):\n",
    "    FingerPrint=AllChem.GetMorganFingerprintAsBitVect(mol,radius=int(j),nBits=int(i))\n",
    "    VectorFingerPrint=np.zeros((1,int(i)))\n",
    "    for z in range(0,1):\n",
    "        ConvertToNumpyArray(FingerPrint[z],VectorFingerPrint[z])\n",
    "    return pd.DataFrame(VectorFingerPrint)\n",
    "\n",
    "mol = Chem.MolFromSmiles('C1=CC(=C(C=C1C(=O)O)C=O)O')\n",
    "Bit=AllChem.GetMorganFingerprintAsBitVect(mol,radius=int(3904.2438021660605),nBits=int(3.8531312767493775))\n",
    "# pred_x=FingerPrint1(int(3904.2438021660605),int(3.8531312767493775))\n",
    "Bit"
   ]
  },
  {
   "cell_type": "code",
   "execution_count": 31,
   "metadata": {},
   "outputs": [
    {
     "data": {
      "text/plain": [
       "array([[0., 0., 0., ..., 0., 0., 0.]])"
      ]
     },
     "execution_count": 31,
     "metadata": {},
     "output_type": "execute_result"
    }
   ],
   "source": [
    "VectorFingerPrint=np.zeros((1,3904))\n",
    "VectorFingerPrint"
   ]
  },
  {
   "cell_type": "code",
   "execution_count": null,
   "metadata": {},
   "outputs": [],
   "source": []
  }
 ],
 "metadata": {
  "kernelspec": {
   "display_name": "Python 3",
   "language": "python",
   "name": "python3"
  },
  "language_info": {
   "codemirror_mode": {
    "name": "ipython",
    "version": 3
   },
   "file_extension": ".py",
   "mimetype": "text/x-python",
   "name": "python",
   "nbconvert_exporter": "python",
   "pygments_lexer": "ipython3",
   "version": "3.8.5"
  },
  "toc": {
   "base_numbering": 1,
   "nav_menu": {},
   "number_sections": true,
   "sideBar": true,
   "skip_h1_title": false,
   "title_cell": "Table of Contents",
   "title_sidebar": "Contents",
   "toc_cell": false,
   "toc_position": {},
   "toc_section_display": true,
   "toc_window_display": false
  }
 },
 "nbformat": 4,
 "nbformat_minor": 4
}
